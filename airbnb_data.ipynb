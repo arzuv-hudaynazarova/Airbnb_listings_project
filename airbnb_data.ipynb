import pandas as pd
import matplotlib.pyplot as plt

# Load the dataset
df = pd.read_csv("airbnb_listings.csv")
# View the first few rows of the dataset
print(df.head())

# Get a summary of the data
print(df.describe())

# Check for missing values
print(df.isnull().sum())

# Visualize the Distribution of Prices:
plt.hist(df['price'], bins=50, edgecolor='black')
plt.title('Distribution of Prices')
plt.xlabel('Price')
plt.ylabel('Number of Listings')
plt.show()

# Visualize the Number of Listings for Each Room Type:
df['room_type'].value_counts().plot(kind='bar')
plt.title('Number of Listings by Room Type')
plt.xlabel('Room Type')
plt.ylabel('Number of Listings')
plt.show()

# Average Price by Room Type:
avg_prices = df.groupby('room_type')['price'].mean()
avg_prices.plot(kind='bar')
plt.title('Average Price by Room Type')
plt.xlabel('Room Type')
plt.ylabel('Average Price')
plt.show()



# Optional: Geographical Plot (requires additional libraries like geopandas and contextily):

import geopandas as gpd
import contextily as ctx

# Convert DataFrame to GeoDataFrame
gdf = gpd.GeoDataFrame(df, geometry=gpd.points_from_xy(df.longitude, df.latitude))
ax = gdf.plot(markersize=1)
ctx.add_basemap(ax)
plt.show()

